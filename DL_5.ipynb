{
 "cells": [
  {
   "cell_type": "code",
   "execution_count": 67,
   "id": "5540cfbb",
   "metadata": {},
   "outputs": [],
   "source": [
    "import numpy as np\n",
    "from sklearn.preprocessing import OneHotEncoder"
   ]
  },
  {
   "cell_type": "code",
   "execution_count": 68,
   "id": "e596b22c",
   "metadata": {},
   "outputs": [],
   "source": [
    "# Sample corpus and parameters\n",
    "corpus = [\"I like machine learning\", \"I enjoy deep\", \"Coding is fascinating\"]\n",
    "window_size, embedding_dim, lr, epochs = 2, 5, 0.01, 100"
   ]
  },
  {
   "cell_type": "code",
   "execution_count": 69,
   "id": "ae494900",
   "metadata": {},
   "outputs": [],
   "source": [
    "# Preprocessing: Tokenize and create vocabulary\n",
    "words = [word for sentence in corpus for word in sentence.lower().split()]\n",
    "vocab = sorted(set(words))\n",
    "word_to_index = {word: idx for idx, word in enumerate(vocab)}\n",
    "index_to_word = {idx: word for word, idx in word_to_index.items()}"
   ]
  },
  {
   "cell_type": "code",
   "execution_count": 80,
   "id": "8d236309",
   "metadata": {},
   "outputs": [
    {
     "name": "stdout",
     "output_type": "stream",
     "text": [
      "Vocabulary: ['coding', 'deep', 'enjoy', 'fascinating', 'i', 'is', 'learning', 'like', 'machine']\n"
     ]
    },
    {
     "name": "stderr",
     "output_type": "stream",
     "text": [
      "C:\\Users\\jagdi\\anaconda3\\Lib\\site-packages\\sklearn\\preprocessing\\_encoders.py:972: FutureWarning: `sparse` was renamed to `sparse_output` in version 1.2 and will be removed in 1.4. `sparse_output` is ignored unless you leave `sparse` to its default value.\n",
      "  warnings.warn(\n"
     ]
    }
   ],
   "source": [
    "# One-hot encoding\n",
    "encoder = OneHotEncoder(sparse=False)\n",
    "one_hot_matrix = encoder.fit_transform(np.array(vocab).reshape(-1, 1))\n",
    "\n",
    "print(f\"Vocabulary: {vocab}\")"
   ]
  },
  {
   "cell_type": "code",
   "execution_count": 74,
   "id": "449d4937",
   "metadata": {},
   "outputs": [],
   "source": [
    "# Generate training data\n",
    "def generate_training_data(words, window_size):\n",
    "    X, y = [], []\n",
    "    for i in range(window_size, len(words) - window_size):\n",
    "        context = words[i - window_size:i] + words[i + 1:i + window_size + 1]\n",
    "        target = words[i]\n",
    "        X.append(sum(one_hot_matrix[word_to_index[w]] for w in context))\n",
    "        y.append(one_hot_matrix[word_to_index[target]])\n",
    "    return np.array(X), np.array(y)"
   ]
  },
  {
   "cell_type": "code",
   "execution_count": 75,
   "id": "99dac9a3",
   "metadata": {},
   "outputs": [],
   "source": [
    "X_train, y_train = generate_training_data(words, window_size)"
   ]
  },
  {
   "cell_type": "code",
   "execution_count": 76,
   "id": "accf5b32",
   "metadata": {},
   "outputs": [],
   "source": [
    "# Model parameters and layers\n",
    "W1, W2 = np.random.rand(len(vocab), embedding_dim), np.random.rand(embedding_dim, len(vocab))"
   ]
  },
  {
   "cell_type": "code",
   "execution_count": 82,
   "id": "55cff7be",
   "metadata": {},
   "outputs": [],
   "source": [
    "# Training the CBOW model\n",
    "for _ in range(epochs):\n",
    "    for x, target in zip(X_train, y_train):\n",
    "        h, u = np.dot(x, W1), np.dot(np.dot(x, W1), W2)\n",
    "        y_pred = np.exp(u) / np.sum(np.exp(u))\n",
    "        e = y_pred - target\n",
    "        W2 -= lr * np.outer(h, e)\n",
    "        W1 -= lr * np.outer(x, np.dot(W2, e))"
   ]
  },
  {
   "cell_type": "code",
   "execution_count": 78,
   "id": "dbde9658",
   "metadata": {},
   "outputs": [],
   "source": [
    "# Word prediction function\n",
    "def predict(context_words):\n",
    "    context_vec = sum(one_hot_matrix[word_to_index[word]] for word in context_words)\n",
    "    h = np.dot(context_vec, W1)\n",
    "    u = np.dot(h, W2)\n",
    "    y_pred = np.exp(u) / np.sum(np.exp(u))\n",
    "    return index_to_word[np.argmax(y_pred)]"
   ]
  },
  {
   "cell_type": "code",
   "execution_count": 79,
   "id": "21c51de7",
   "metadata": {},
   "outputs": [
    {
     "name": "stdout",
     "output_type": "stream",
     "text": [
      "Predicted word: machine\n"
     ]
    }
   ],
   "source": [
    "# Test prediction\n",
    "print(\"Predicted word:\", predict([\"i\",\"like\",\"learning\",\"i\"]))"
   ]
  },
  {
   "cell_type": "code",
   "execution_count": null,
   "id": "fd830f80",
   "metadata": {},
   "outputs": [],
   "source": []
  }
 ],
 "metadata": {
  "kernelspec": {
   "display_name": "Python 3 (ipykernel)",
   "language": "python",
   "name": "python3"
  },
  "language_info": {
   "codemirror_mode": {
    "name": "ipython",
    "version": 3
   },
   "file_extension": ".py",
   "mimetype": "text/x-python",
   "name": "python",
   "nbconvert_exporter": "python",
   "pygments_lexer": "ipython3",
   "version": "3.11.5"
  }
 },
 "nbformat": 4,
 "nbformat_minor": 5
}
